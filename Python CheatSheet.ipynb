{
 "cells": [
  {
   "cell_type": "markdown",
   "id": "7acb0d24-a2d9-4e97-a481-d1569022ebee",
   "metadata": {},
   "source": [
    "# All About List\n",
    "### List Creation"
   ]
  },
  {
   "cell_type": "markdown",
   "id": "c973af44-f371-4823-8ff4-f7d48b68a2da",
   "metadata": {},
   "source": [
    "a = \"is\"\n",
    "b = \"nice\"\n",
    "my_list = [\"my\", \"list\", a, b]"
   ]
  },
  {
   "cell_type": "markdown",
   "id": "e9bf8aa2-2f0a-46f4-83de-d042d39a480c",
   "metadata": {},
   "source": [
    "### List of lists\n"
   ]
  },
  {
   "cell_type": "code",
   "execution_count": null,
   "id": "588b5fba-1923-4af7-be31-f34762343350",
   "metadata": {
    "tags": []
   },
   "outputs": [],
   "source": [
    "house = [[\"hallway\", hall],\n",
    "         [\"kitchen\", kit],\n",
    "         [\"living room\", liv],\n",
    "         [\"bedroom\", bed],\n",
    "         [\"bathroom\", bath]]"
   ]
  },
  {
   "cell_type": "markdown",
   "id": "0e7b4bf4-48f9-4094-a697-24506addf90b",
   "metadata": {},
   "source": [
    "### Subsetting List"
   ]
  },
  {
   "cell_type": "code",
   "execution_count": null,
   "id": "5cd598be-6c0c-4866-9307-c8a9b45d7458",
   "metadata": {
    "tags": []
   },
   "outputs": [],
   "source": [
    "x = [\"a\", \"b\", \"c\", \"d\"]\n",
    "x[1]\n",
    "x[-3] # same result!\n",
    "print(x[1] + x[3])"
   ]
  },
  {
   "cell_type": "markdown",
   "id": "ef14223b-6bca-4f06-be68-7651dca720da",
   "metadata": {},
   "source": [
    "### Slicing and Dicing"
   ]
  },
  {
   "cell_type": "code",
   "execution_count": null,
   "id": "83b39d29-af74-4b83-a61d-9502228478db",
   "metadata": {},
   "outputs": [],
   "source": [
    "# my_list[begin:end]\n",
    "x = [\"a\", \"b\", \"c\", \"d\"]\n",
    "x[1:3]\n",
    "x[:2]\n",
    "x[2:]\n",
    "x[:]"
   ]
  },
  {
   "cell_type": "markdown",
   "id": "c93c41c7-2172-4348-ba3d-22fe7bf0cd90",
   "metadata": {},
   "source": [
    "### Subsetting lists of lists"
   ]
  },
  {
   "cell_type": "code",
   "execution_count": null,
   "id": "9947967b-3676-48aa-af00-97a302890348",
   "metadata": {},
   "outputs": [],
   "source": [
    "x = [[\"a\", \"b\", \"c\"],\n",
    "     [\"d\", \"e\", \"f\"],\n",
    "     [\"g\", \"h\", \"i\"]]\n",
    "#to get 'g'\n",
    "x[2][0]\n",
    "#to get ['g','h']\n",
    "x[2][:2]"
   ]
  },
  {
   "cell_type": "markdown",
   "id": "d5903a57-4a32-47b4-80ef-005322c1732f",
   "metadata": {},
   "source": [
    "### Replace List Elements"
   ]
  },
  {
   "cell_type": "code",
   "execution_count": null,
   "id": "36cbfffe-a1e1-4c49-b460-ec83025a22c8",
   "metadata": {},
   "outputs": [],
   "source": [
    "x = [\"a\", \"b\", \"c\", \"d\"]\n",
    "x[1] = \"r\"\n",
    "x[2:] = [\"s\", \"t\"]"
   ]
  },
  {
   "cell_type": "markdown",
   "id": "a7fde7a3-7724-46a1-b784-fc725fe8a171",
   "metadata": {},
   "source": [
    "### Extend a List"
   ]
  },
  {
   "cell_type": "code",
   "execution_count": null,
   "id": "95659ede-5ada-482d-a0ed-6d7d7dc6d172",
   "metadata": {},
   "outputs": [],
   "source": [
    "x = [\"a\", \"b\", \"c\", \"d\"]\n",
    "y = x + [\"e\", \"f\"]"
   ]
  },
  {
   "cell_type": "markdown",
   "id": "80937e5f-cb02-4e29-be6c-93eedaa67284",
   "metadata": {},
   "source": [
    "### Delete List Elements"
   ]
  },
  {
   "cell_type": "code",
   "execution_count": null,
   "id": "6a2f6f54-e0fe-4a17-b8b8-8c558a758fe6",
   "metadata": {},
   "outputs": [],
   "source": [
    "x = [\"a\", \"b\", \"c\", \"d\"]\n",
    "del(x[1])"
   ]
  },
  {
   "cell_type": "markdown",
   "id": "a18c37dc-94cf-4169-99ca-fd11865dfa5e",
   "metadata": {
    "tags": []
   },
   "source": [
    "### Inner Working of List"
   ]
  },
  {
   "cell_type": "code",
   "execution_count": null,
   "id": "715cb970-ac64-40e7-bb7b-cf791e0edd4d",
   "metadata": {},
   "outputs": [],
   "source": [
    "#To prevent changes from original list, use list\n",
    "areas = [11.25, 18.0, 20.0, 10.75, 9.50]\n",
    "areas_copy = list(areas)"
   ]
  },
  {
   "cell_type": "markdown",
   "id": "bf0b88e9-66e2-4ee6-81fd-3b40bba43947",
   "metadata": {},
   "source": [
    "### Sorting\n",
    "#### Use sorted()"
   ]
  },
  {
   "cell_type": "markdown",
   "id": "9ddf72e9-4dd7-4a87-ba1a-515c6fcd4372",
   "metadata": {},
   "source": [
    "### String Methods"
   ]
  },
  {
   "cell_type": "code",
   "execution_count": null,
   "id": "7821be1a-9838-466d-9b1c-aecb939a23c9",
   "metadata": {},
   "outputs": [],
   "source": [
    "#str.upper() to all caps \n",
    "#str.count() to get the number of times an element appears in a list.\n",
    "#str.index() to get the index of the first element of a list that matches its input \n",
    "#str.append(), that adds an element to the list it is called on\n",
    "#str.remove(), that removes the first element of a list that matches the input\n",
    "#str.reverse(), that reverses the order of the elements in the list it is called on.\n",
    "areas = [11.25, 18.0, 20.0, 10.75, 9.50]\n",
    "print(areas.index(20.0))\n",
    "print(areas.count(9.50))\n",
    "areas.append(24.5)\n",
    "areas.reverse()"
   ]
  },
  {
   "cell_type": "markdown",
   "id": "487df944-23c4-462e-8051-908f5b789a6d",
   "metadata": {},
   "source": [
    "## All about Numpy"
   ]
  },
  {
   "cell_type": "code",
   "execution_count": 1,
   "id": "aee06efd-0ff1-44ba-85d0-939efb6ece78",
   "metadata": {},
   "outputs": [],
   "source": [
    "### Create Numpy Array\n",
    "import numpy as np\n",
    "baseball = [180, 215, 210, 210, 188, 176, 209, 200]\n",
    "np_baseball = np.array(baseball)\n",
    "\n",
    "#Boolean Numpy Arrays\n",
    "high = y > 5\n",
    "y[high]"
   ]
  },
  {
   "cell_type": "markdown",
   "id": "c1c1d79a-db23-4786-9dc3-9b9ded1b9e1d",
   "metadata": {},
   "source": [
    "### Subsetting 2D NumPy Arrays"
   ]
  },
  {
   "cell_type": "code",
   "execution_count": null,
   "id": "ef31e9c1-f3aa-404e-8cb8-137a6f8253ec",
   "metadata": {},
   "outputs": [],
   "source": [
    "import numpy as np\n",
    "np_x = np.array(x)\n",
    "np_x[:,0]"
   ]
  },
  {
   "cell_type": "code",
   "execution_count": null,
   "id": "f7df1c8b-afe6-4214-966b-4990502093f1",
   "metadata": {},
   "outputs": [],
   "source": [
    "### 2D Arithmetic\n",
    "np_mat = np.array([[1, 2],\n",
    "                   [3, 4],\n",
    "                   [5, 6]])\n",
    "np_mat * 2\n",
    "np_mat + np.array([10, 10])\n",
    "np_mat + np_mat"
   ]
  },
  {
   "cell_type": "code",
   "execution_count": null,
   "id": "27155be2-57a7-421d-a287-57d010d5d1ad",
   "metadata": {},
   "outputs": [],
   "source": [
    "# Basic Stat Functions\n",
    "# np.mean()\n",
    "# np.median()\n",
    "# np.std()\n",
    "# np.corrcoef()"
   ]
  },
  {
   "cell_type": "code",
   "execution_count": null,
   "id": "3af3076c-da11-45cb-9f40-ccd41cd0e6a2",
   "metadata": {},
   "outputs": [],
   "source": [
    "# Heights of the goalkeepers: gk_heights\n",
    "gk_heights = np_heights[np_positions == 'GK']"
   ]
  },
  {
   "cell_type": "markdown",
   "id": "09d88824-aced-466e-b4f3-98b01720b3c2",
   "metadata": {},
   "source": [
    "## All about Matploblib"
   ]
  },
  {
   "cell_type": "code",
   "execution_count": null,
   "id": "b25a96a4-91b3-4cc5-967e-c7d6168ec4d4",
   "metadata": {},
   "outputs": [],
   "source": [
    "import matplotlib.pyplot as plt\n",
    "plt.plot(x,y)\n",
    "plt.show()\n",
    "plt.scatter(x,y)\n",
    "plt.show()\n",
    "plt.hist()\n",
    "plt.show()\n",
    "plt.clf()\n",
    "\n",
    "#Customization\n",
    "plt.xlabel()\n",
    "plt.ylabel()\n",
    "plt.title()\n",
    "plt.yticks([0,1,2], [\"one\",\"two\",\"three\"]) #This replaces 0, 1, 2 in the yaxis with \"one\", \"two\", \"three\"\n",
    "plt.xticks()\n",
    "plt.scatter(gdp_cap, life_exp, s = np_pop) #set s argument to np_pop = size is dependent to np_pop\n",
    "plt.text() #to add words in the plot based from placement"
   ]
  },
  {
   "cell_type": "markdown",
   "id": "73540afe-a058-4418-9861-d23ef74d7187",
   "metadata": {},
   "source": [
    "### Dictionary"
   ]
  },
  {
   "cell_type": "code",
   "execution_count": null,
   "id": "3b28d969-3068-4c5a-9eeb-60bd84179890",
   "metadata": {},
   "outputs": [],
   "source": [
    "my_dict = {\n",
    "   \"key1\":\"value1\",\n",
    "   \"key2\":\"value2\",\n",
    "}"
   ]
  },
  {
   "cell_type": "code",
   "execution_count": null,
   "id": "bff3199e-c4b1-4fea-a2f8-19edd0c9cb4c",
   "metadata": {},
   "outputs": [],
   "source": [
    "#Add elements to Dictionary\n",
    "europe = {'spain':'madrid', 'france':'paris', 'germany':'berlin', 'norway':'oslo' }\n",
    "europe['iceland'] = 'reykjavik'\n",
    "#Remove elements\n",
    "del(europe['australia'])"
   ]
  },
  {
   "cell_type": "code",
   "execution_count": null,
   "id": "9e610bca-c039-49b7-b2b0-98de7378bf7a",
   "metadata": {},
   "outputs": [],
   "source": [
    "### Dictionariception\n",
    "europe = { 'spain': { 'capital':'madrid', 'population':46.77 },\n",
    "           'france': { 'capital':'paris', 'population':66.03 },\n",
    "           'germany': { 'capital':'berlin', 'population':80.62 },\n",
    "           'norway': { 'capital':'oslo', 'population':5.084 } }\n",
    "# Print out the capital of France\n",
    "print(europe['france']['capital'])"
   ]
  },
  {
   "cell_type": "markdown",
   "id": "94794ac6-3634-4d57-b06f-e19d25582153",
   "metadata": {},
   "source": [
    "### Dictionary to DataFrame using Pandas"
   ]
  },
  {
   "cell_type": "code",
   "execution_count": 7,
   "id": "9f9f8d0c-53ca-4be3-b888-21d27d934f98",
   "metadata": {},
   "outputs": [],
   "source": [
    "names = ['United States', 'Australia', 'Japan', 'India', 'Russia', 'Morocco', 'Egypt']\n",
    "dr =  [True, False, False, False, True, True, True]\n",
    "cpc = [809, 731, 588, 18, 200, 70, 45]\n",
    "import pandas as pd\n",
    "my_dict = {'country':names, 'drives_right':dr, 'cars_per_cap' : cpc}\n",
    "cars = pd.DataFrame(my_dict)"
   ]
  },
  {
   "cell_type": "code",
   "execution_count": null,
   "id": "f8137f0b-3fd8-4cf1-82a0-31d559c174ab",
   "metadata": {},
   "outputs": [],
   "source": [
    "#Change row labels\n",
    "row_labels = ['US', 'AUS', 'JPN', 'IN', 'RU', 'MOR', 'EG']\n",
    "cars.index = row_labels"
   ]
  },
  {
   "cell_type": "markdown",
   "id": "e67f118e-bd37-48a0-be19-3656e4d96218",
   "metadata": {},
   "source": [
    "### CSV to DataFrame"
   ]
  },
  {
   "cell_type": "code",
   "execution_count": null,
   "id": "bc356ffc-4b75-4069-a59c-687121ba76e8",
   "metadata": {},
   "outputs": [],
   "source": [
    "import pandas as pd\n",
    "cars = pd.read_csv('cars.csv')\n",
    "#to specify which column in the CSV file should be used as a row label\n",
    "cars = pd.read_csv('cars.csv', index_col = 0)"
   ]
  },
  {
   "cell_type": "markdown",
   "id": "3f39d5a4-1930-4414-bc9f-8208eda5c86d",
   "metadata": {},
   "source": [
    "### Square Brackets"
   ]
  },
  {
   "cell_type": "code",
   "execution_count": null,
   "id": "144b7b21-d026-48e9-a1a6-291e50b19927",
   "metadata": {},
   "outputs": [],
   "source": [
    "cars['cars_per_cap']\n",
    "cars[['cars_per_cap']]\n",
    "#The single bracket version gives a Pandas Series, the double bracket version gives a Pandas DataFrame.\n",
    "cars[0:5] #selects the first five rows from the cars\n",
    "cars.loc[['RU', 'AUS']]\n",
    "cars.iloc[[4, 1]]\n",
    "cars.loc['MOR', 'drives_right'] #drives_right value of Morocco\n",
    "# Print sub-DataFrame\n",
    "cars.loc[['RU','MOR'],['country','drives_right']]"
   ]
  },
  {
   "cell_type": "markdown",
   "id": "f4a8e5b5-e2b2-4ced-9918-39835456ec2e",
   "metadata": {},
   "source": [
    "### Comparison Operators"
   ]
  },
  {
   "cell_type": "code",
   "execution_count": null,
   "id": "47148448-755a-4236-bb77-1663cdaf744d",
   "metadata": {},
   "outputs": [],
   "source": [
    "#Equality\n",
    "2 == (1 + 1)\n",
    "\"intermediate\" != \"python\"\n",
    "True != False\n",
    "#Greater and less than\n",
    "3 < 4\n",
    "3 <= 4\n",
    "\"alpha\" <= \"beta\"\n",
    "#compare arrays\n",
    "my_house = np.array([18.0, 20.0, 10.75, 9.50])\n",
    "your_house = np.array([14.0, 24.0, 14.25, 9.0])\n",
    "print(my_house < your_house)\n",
    "print(my_house>=18)"
   ]
  },
  {
   "cell_type": "code",
   "execution_count": null,
   "id": "8feba8be-e5e5-4a78-9c85-452aab3c2cb8",
   "metadata": {},
   "outputs": [],
   "source": [
    "#Boolean Operators\n",
    "#and, or, not\n",
    "print(my_kitchen >10 and my_kitchen <18)\n",
    "x = 8\n",
    "y = 9\n",
    "not(not(x < 3) and not(y > 14 or y > 10))\n",
    "\n",
    "#Boolean Operators with Numpy\n",
    "#use np.logical_and/or/not\n",
    "print(np.logical_or(my_house > 18.5 , my_house < 10))"
   ]
  },
  {
   "cell_type": "markdown",
   "id": "fba9c409-0ec3-4fb6-b9fd-b265aa9f3901",
   "metadata": {},
   "source": [
    "## If,elif,else"
   ]
  },
  {
   "cell_type": "code",
   "execution_count": null,
   "id": "898ef10a-e446-4de2-af4d-c86d4df02a50",
   "metadata": {},
   "outputs": [],
   "source": [
    "area = 10.0\n",
    "if(area < 9) :\n",
    "    print(\"small\")\n",
    "elif(area < 12) :\n",
    "    print(\"medium\")\n",
    "else :\n",
    "    print(\"large\")"
   ]
  },
  {
   "cell_type": "markdown",
   "id": "3ef587b1-040e-4788-a6af-2ad12dd5db17",
   "metadata": {},
   "source": [
    "## Filtering Pandas DataFrame"
   ]
  },
  {
   "cell_type": "code",
   "execution_count": null,
   "id": "c64b8557-309e-4a8a-8ecd-b7f4a35ede72",
   "metadata": {},
   "outputs": [],
   "source": [
    "import pandas as pd\n",
    "cars = pd.read_csv('cars.csv', index_col = 0)\n",
    "\n",
    "# Extract drives_right column as Series: dr\n",
    "dr = cars['drives_right']\n",
    "# Use dr to subset cars: sel\n",
    "sel = cars[dr]\n",
    "#applying operators\n",
    "cpc = cars['cars_per_cap']\n",
    "between = np.logical_and(cpc>100, cpc < 500)\n",
    "medium = cars[between]"
   ]
  },
  {
   "cell_type": "code",
   "execution_count": null,
   "id": "6f24e5b4-fc4b-4e16-8c90-71379e6f186d",
   "metadata": {},
   "outputs": [],
   "source": [
    "## While Loop with conditionals\n",
    "offset = -6\n",
    "while offset != 0 :\n",
    "    print(\"correcting...\")\n",
    "    if offset > 0 :\n",
    "      offset = offset -1\n",
    "    else : \n",
    "      offset = offset + 1    \n",
    "    print(offset)"
   ]
  },
  {
   "cell_type": "code",
   "execution_count": null,
   "id": "0b997080-1c05-4bf7-af72-c89d56261aa2",
   "metadata": {},
   "outputs": [],
   "source": [
    "##For Loop\n",
    "#with indexes and values\n",
    "for index, a in enumerate(areas) :\n",
    "    print(\"room \" +str(index) +\": \" + str(a))\n",
    "\n",
    "#Loop over list of lists\n",
    "house = [[\"hallway\", 11.25], \n",
    "         [\"kitchen\", 18.0], \n",
    "         [\"living room\", 20.0], \n",
    "         [\"bedroom\", 10.75], \n",
    "         [\"bathroom\", 9.50]]\n",
    "for x in house :\n",
    "    print( \"the \" + str(x[0]) + \" is \" + str(x[1]) + \" sqm\" )\n",
    "\n",
    "#Loop over dictionary ## you need the items() method to loop over a dictionary\n",
    "europe = {'spain':'madrid', 'france':'paris', 'germany':'berlin',\n",
    "          'norway':'oslo', 'italy':'rome', 'poland':'warsaw', 'austria':'vienna' }\n",
    "for x, y in europe.items() :\n",
    "    print (\"the capital of \" + x + \" is \" + y)\n",
    "\n",
    "#Loop over NumPyArray\n",
    "#1D array\n",
    "for x in my_array\n",
    "#2D array\n",
    "for x in np.nditer(my_array) :"
   ]
  },
  {
   "cell_type": "code",
   "execution_count": null,
   "id": "30f8b89a-6cc6-4a7d-914e-0ad84b92c185",
   "metadata": {},
   "outputs": [],
   "source": [
    "#Loop over DataFrame\n",
    "#Iterating over a Pandas DataFrame is typically done with the iterrows()\n",
    "for lab, row in cars.iterrows() :\n",
    "    print (lab)\n",
    "    print (row)\n",
    "#The row data that's generated by iterrows() on every run is a Pandas Series\n",
    "for lab, row in cars.iterrows() :\n",
    "    print(lab + \": \" + str(row['cars_per_cap']))\n",
    "#Add Column\n",
    "for x,row in cars.iterrows() :\n",
    "    cars.loc[x, 'COUNTRY'] = str.upper(row['country'])\n",
    "#If you want to add a column to a DataFrame by calling a function on another column, use apply()\n",
    "cars['COUNTRY'] = cars['country'].apply(str.upper)\n"
   ]
  },
  {
   "cell_type": "code",
   "execution_count": null,
   "id": "7ffff184-2190-47c1-b6e6-5783cf0cf8a7",
   "metadata": {},
   "outputs": [],
   "source": [
    "#Random Float\n",
    "#seed() sets the random seed, so that your results are reproducible between simulations\n",
    "   #As an argument, it takes an integer of your choosing. If you call the function, no output will be generated.\n",
    "#rand() if you don't specify any arguments, it generates a random float between zero and one\n",
    "#randint() to generate integers randomly\n",
    "import numpy as np\n",
    "np.random.randint(4, 8) #generates the integer 4, 5, 6 or 7 randomly. 8 is not included"
   ]
  },
  {
   "cell_type": "code",
   "execution_count": null,
   "id": "3134731e-9af9-480f-a7ba-0734cf8f41d2",
   "metadata": {},
   "outputs": [],
   "source": [
    "max() #If you pass max() two arguments, the biggest one gets returned"
   ]
  }
 ],
 "metadata": {
  "kernelspec": {
   "display_name": "Python 3",
   "language": "python",
   "name": "python3"
  },
  "language_info": {
   "codemirror_mode": {
    "name": "ipython",
    "version": 3
   },
   "file_extension": ".py",
   "mimetype": "text/x-python",
   "name": "python",
   "nbconvert_exporter": "python",
   "pygments_lexer": "ipython3",
   "version": "3.8.8"
  }
 },
 "nbformat": 4,
 "nbformat_minor": 5
}
